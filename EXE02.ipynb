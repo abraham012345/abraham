{
  "nbformat": 4,
  "nbformat_minor": 0,
  "metadata": {
    "colab": {
      "provenance": [],
      "authorship_tag": "ABX9TyMxZYDbHXq/AX0PedcR11Ho",
      "include_colab_link": true
    },
    "kernelspec": {
      "name": "python3",
      "display_name": "Python 3"
    },
    "language_info": {
      "name": "python"
    }
  },
  "cells": [
    {
      "cell_type": "markdown",
      "metadata": {
        "id": "view-in-github",
        "colab_type": "text"
      },
      "source": [
        "<a href=\"https://colab.research.google.com/github/abraham012345/abraham/blob/main/EXE02.ipynb\" target=\"_parent\"><img src=\"https://colab.research.google.com/assets/colab-badge.svg\" alt=\"Open In Colab\"/></a>"
      ]
    },
    {
      "cell_type": "code",
      "source": [
        "# Dice Game between 2 Players\n",
        "# The winner will be the first player to score a 36.\n",
        "\n",
        "\n",
        "from random import randint\n",
        "import time\n",
        "import sys\n",
        "print('Welcome to Dice Game\\n---------------------------------------------')\n",
        "player1 = input('Enter the 1st player name: ').strip()\n",
        "player2 = input('Enter the 2nd player name: ').strip()\n",
        "print('{} -> 1st Player\\n{} -> 2nd Player'.format(player1, player2))\n",
        "\n",
        "#this is to choose the next player 0 - first player 1- second player\n",
        "chance = 0\n",
        "\n",
        "#tries - 1st player  tries1 - 2nd player\n",
        "(tries,tries1) = (0,0)\n",
        "\n",
        "#Total scores of players\n",
        "(total, total1) = (0,0)\n",
        "\n",
        "max_score = 36\n",
        "DECORATE_COUNT = 45\n",
        "\n",
        "# Iterate until a player is won\n",
        "while(1):\n",
        "    print(f'\\nScores: ')\n",
        "    print('='*DECORATE_COUNT)\n",
        "    print(f'{player1}: {total}\\n{player2}: {total1}')\n",
        "    print('='*DECORATE_COUNT)\n",
        "    #1st player chance\n",
        "    while(chance == 0):\n",
        "        print('\\n')\n",
        "        print('{}(1st Player\\'s) Chance.. '.format(player1))\n",
        "        print('-----------------------------------------------')\n",
        "        roll = input('Roll Dice! Press 1 to roll: ').strip()\n",
        "        if roll in (1,'1'):\n",
        "            dice = randint(1,6)\n",
        "            total = total + dice\n",
        "            tries = tries + 1\n",
        "            print('{}(1st Player) rolled a {} and total is {}'.format(player1, dice, total))\n",
        "        else:\n",
        "            print('\\nINCORRECT KEY PRESSED.PRESS 1 TO ROLL DICE.')\n",
        "            continue\n",
        "        #giving chance to 2nd player\n",
        "        chance = 1\n",
        "\n",
        "        if total >= max_score:\n",
        "            print('\\n\\n******************* GAME OVER ********************\\n')\n",
        "            print('\\n{}(Player1) Won the Game in {} tries. Congratulations!!!'.format(player1, tries))\n",
        "            sys.exit()\n",
        "\n",
        "    #2nd player chance\n",
        "    while(chance == 1):\n",
        "        print('\\n')\n",
        "        print('{}(2nd Player\\'s) Chance.. '.format(player2))\n",
        "        print('*************************************************')\n",
        "        roll = input('Roll Dice! Press 1 to roll: ').strip()\n",
        "        if roll in (1, '1'):\n",
        "            dice = randint(1,6)\n",
        "            total1 = total1 + dice\n",
        "            tries1 = tries1 + 1\n",
        "            print('{}(2nd Player) rolled a {} and total is {}'.format(player2, dice, total1))\n",
        "        else:\n",
        "            print('\\nINCORRECT KEY PRESSED.PRESS 1 TO ROLL DICE.')\n",
        "            continue\n",
        "\n",
        "        #giving chance to 1st player\n",
        "        chance = 0\n",
        "\n",
        "        if total1 >= max_score:\n",
        "            print('\\n\\n******************* GAME OVER ********************\\n')\n",
        "            print('{}(Player1) won the Game in {} tries. Congratulations!!!\\n'.format(player2, tries1))\n",
        "            sys.exit()\n"
      ],
      "metadata": {
        "colab": {
          "base_uri": "https://localhost:8080/"
        },
        "id": "rAdPRvLMxaqo",
        "outputId": "c7d5c949-745a-45d7-8570-004071ababc4"
      },
      "execution_count": null,
      "outputs": [
        {
          "output_type": "stream",
          "name": "stdout",
          "text": [
            "Welcome to Dice Game\n",
            "---------------------------------------------\n"
          ]
        }
      ]
    }
  ]
}